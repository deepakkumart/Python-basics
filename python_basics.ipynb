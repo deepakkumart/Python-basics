{
  "nbformat": 4,
  "nbformat_minor": 0,
  "metadata": {
    "colab": {
      "name": "python basics",
      "provenance": [],
      "collapsed_sections": [],
      "authorship_tag": "ABX9TyMOwFZXEKOnr9D40ZuSByZC",
      "include_colab_link": true
    },
    "kernelspec": {
      "name": "python3",
      "display_name": "Python 3"
    }
  },
  "cells": [
    {
      "cell_type": "markdown",
      "metadata": {
        "id": "view-in-github",
        "colab_type": "text"
      },
      "source": [
        "<a href=\"https://colab.research.google.com/github/akhilkarthik/Python-basics/blob/master/python_basics.ipynb\" target=\"_parent\"><img src=\"https://colab.research.google.com/assets/colab-badge.svg\" alt=\"Open In Colab\"/></a>"
      ]
    },
    {
      "cell_type": "markdown",
      "metadata": {
        "id": "ZOhZyTFdCBGg",
        "colab_type": "text"
      },
      "source": [
        "starting"
      ]
    },
    {
      "cell_type": "code",
      "metadata": {
        "id": "-jUVqgGhCDqN",
        "colab_type": "code",
        "colab": {
          "base_uri": "https://localhost:8080/",
          "height": 34
        },
        "outputId": "18580142-8fb2-4040-a593-c67c90f538ae"
      },
      "source": [
        "#shit + enter to run\n",
        "(\"hello world\")"
      ],
      "execution_count": null,
      "outputs": [
        {
          "output_type": "stream",
          "text": [
            "hello world\n"
          ],
          "name": "stdout"
        }
      ]
    },
    {
      "cell_type": "code",
      "metadata": {
        "id": "bkf9sKQ5Cr1W",
        "colab_type": "code",
        "colab": {}
      },
      "source": [
        "n=5 # assign the value of 5 in the variable n\n"
      ],
      "execution_count": null,
      "outputs": []
    },
    {
      "cell_type": "code",
      "metadata": {
        "id": "qczeGbc4C9ty",
        "colab_type": "code",
        "colab": {
          "base_uri": "https://localhost:8080/",
          "height": 34
        },
        "outputId": "3080850d-978d-4f35-c113-682e785b72fa"
      },
      "source": [
        "print(n)"
      ],
      "execution_count": null,
      "outputs": [
        {
          "output_type": "stream",
          "text": [
            "5\n"
          ],
          "name": "stdout"
        }
      ]
    },
    {
      "cell_type": "code",
      "metadata": {
        "id": "ov8YkL_gDB8z",
        "colab_type": "code",
        "colab": {
          "base_uri": "https://localhost:8080/",
          "height": 34
        },
        "outputId": "2e987eb5-e4e3-443f-f4d9-f50642fddd5f"
      },
      "source": [
        "type(n)"
      ],
      "execution_count": null,
      "outputs": [
        {
          "output_type": "execute_result",
          "data": {
            "text/plain": [
              "int"
            ]
          },
          "metadata": {
            "tags": []
          },
          "execution_count": 4
        }
      ]
    },
    {
      "cell_type": "code",
      "metadata": {
        "id": "zbdY3rO5DEo7",
        "colab_type": "code",
        "colab": {}
      },
      "source": [
        "#variables to stings\n",
        "n=\"python\"\n",
        "\n"
      ],
      "execution_count": null,
      "outputs": []
    },
    {
      "cell_type": "code",
      "metadata": {
        "id": "pOkrwCJADWID",
        "colab_type": "code",
        "colab": {
          "base_uri": "https://localhost:8080/",
          "height": 34
        },
        "outputId": "453b9b8a-7f88-4f1e-eb0a-6001dddf4d41"
      },
      "source": [
        "type(n) # checking the type of function eg: str,int..."
      ],
      "execution_count": null,
      "outputs": [
        {
          "output_type": "execute_result",
          "data": {
            "text/plain": [
              "str"
            ]
          },
          "metadata": {
            "tags": []
          },
          "execution_count": 6
        }
      ]
    },
    {
      "cell_type": "markdown",
      "metadata": {
        "id": "EPCbi2q_Df-b",
        "colab_type": "text"
      },
      "source": [
        "condition statement\n"
      ]
    },
    {
      "cell_type": "code",
      "metadata": {
        "id": "F7CGsS9DDYfD",
        "colab_type": "code",
        "colab": {
          "base_uri": "https://localhost:8080/",
          "height": 50
        },
        "outputId": "8a700422-301f-410d-f2d9-e698b8757fcb"
      },
      "source": [
        "n =10\n",
        "if n >7:\n",
        "  print(\"number is greater than 7\")\n",
        "  print(\"i am in first block\")\n",
        "\n",
        "elif n <7:\n",
        "    print(\"number is less than 7\")\n",
        "else:\n",
        "    print (\"the number is 7\")"
      ],
      "execution_count": null,
      "outputs": [
        {
          "output_type": "stream",
          "text": [
            "number is greater than 7\n",
            "i am in first block\n"
          ],
          "name": "stdout"
        }
      ]
    },
    {
      "cell_type": "code",
      "metadata": {
        "id": "0MOBOzApDxey",
        "colab_type": "code",
        "colab": {}
      },
      "source": [
        ""
      ],
      "execution_count": null,
      "outputs": []
    },
    {
      "cell_type": "markdown",
      "metadata": {
        "id": "bDmhwvhqGroe",
        "colab_type": "text"
      },
      "source": [
        "while loop"
      ]
    },
    {
      "cell_type": "code",
      "metadata": {
        "id": "nDTZ5mqpGzTD",
        "colab_type": "code",
        "colab": {
          "base_uri": "https://localhost:8080/",
          "height": 202
        },
        "outputId": "df96e7c4-b831-46ba-aedf-8f5bb3015325"
      },
      "source": [
        "i = 0\n",
        "while i<=10:\n",
        "  print(i)\n",
        "  i+=   # for printing the number from 0 to 10"
      ],
      "execution_count": null,
      "outputs": [
        {
          "output_type": "stream",
          "text": [
            "0\n",
            "1\n",
            "2\n",
            "3\n",
            "4\n",
            "5\n",
            "6\n",
            "7\n",
            "8\n",
            "9\n",
            "10\n"
          ],
          "name": "stdout"
        }
      ]
    },
    {
      "cell_type": "code",
      "metadata": {
        "id": "zdvfHAH-HERZ",
        "colab_type": "code",
        "colab": {
          "base_uri": "https://localhost:8080/",
          "height": 34
        },
        "outputId": "65d68ec2-18db-485e-8fa5-78654ddac95b"
      },
      "source": [
        "i = 0\n",
        "while i<=10:\n",
        "  print(i,end=\",\")   # we have \"end \" statement whith that we can specify how the output needs to end\n",
        "\n",
        "  i+=1  # here it wii print in single line"
      ],
      "execution_count": null,
      "outputs": [
        {
          "output_type": "stream",
          "text": [
            "0,1,2,3,4,5,6,7,8,9,10,"
          ],
          "name": "stdout"
        }
      ]
    },
    {
      "cell_type": "markdown",
      "metadata": {
        "id": "OqpHiGpGIMGK",
        "colab_type": "text"
      },
      "source": [
        "for loop"
      ]
    },
    {
      "cell_type": "code",
      "metadata": {
        "id": "u75c4QjaIVEJ",
        "colab_type": "code",
        "colab": {
          "base_uri": "https://localhost:8080/",
          "height": 185
        },
        "outputId": "2356ae57-83cf-48bc-9b27-95ebff6c81ba"
      },
      "source": [
        "for i in range(10):   # for loop is used \n",
        "  print(i)"
      ],
      "execution_count": null,
      "outputs": [
        {
          "output_type": "stream",
          "text": [
            "0\n",
            "1\n",
            "2\n",
            "3\n",
            "4\n",
            "5\n",
            "6\n",
            "7\n",
            "8\n",
            "9\n"
          ],
          "name": "stdout"
        }
      ]
    },
    {
      "cell_type": "code",
      "metadata": {
        "id": "nzpNCESqIjM5",
        "colab_type": "code",
        "colab": {
          "base_uri": "https://localhost:8080/",
          "height": 202
        },
        "outputId": "38832e1d-4297-43d4-f754-a964d7e320d3"
      },
      "source": [
        "for i in range(10,21): #to print range of numbers\n",
        "  print(i)"
      ],
      "execution_count": null,
      "outputs": [
        {
          "output_type": "stream",
          "text": [
            "10\n",
            "11\n",
            "12\n",
            "13\n",
            "14\n",
            "15\n",
            "16\n",
            "17\n",
            "18\n",
            "19\n",
            "20\n"
          ],
          "name": "stdout"
        }
      ]
    },
    {
      "cell_type": "code",
      "metadata": {
        "id": "vi5JzwgLIyfp",
        "colab_type": "code",
        "colab": {
          "base_uri": "https://localhost:8080/",
          "height": 34
        },
        "outputId": "d565cb9e-7bb1-4145-caf7-1ba625f84deb"
      },
      "source": [
        "for i in range(10,23):#we giving the range of i as in between 10 and 23, and the second number (23) is excluded\n",
        "  print(i,end=\"  \") # we have \"end \" statement whith that we can specify how the output needs to end\n",
        "                      # here it wii print in single line"
      ],
      "execution_count": null,
      "outputs": [
        {
          "output_type": "stream",
          "text": [
            "10  11  12  13  14  15  16  17  18  19  20  21  22  "
          ],
          "name": "stdout"
        }
      ]
    },
    {
      "cell_type": "code",
      "metadata": {
        "id": "VYn2q485JL2Z",
        "colab_type": "code",
        "colab": {
          "base_uri": "https://localhost:8080/",
          "height": 134
        },
        "outputId": "5e2f11b4-f137-448f-cc71-bd84046cfb6a"
      },
      "source": [
        "for i in range(10,24,2):# we are giving step size as 2. eg : (start,end,stepsize)\n",
        "  print(i)  # now it will avoid the second number eg: 10,14,18..etc."
      ],
      "execution_count": null,
      "outputs": [
        {
          "output_type": "stream",
          "text": [
            "10\n",
            "12\n",
            "14\n",
            "16\n",
            "18\n",
            "20\n",
            "22\n"
          ],
          "name": "stdout"
        }
      ]
    },
    {
      "cell_type": "markdown",
      "metadata": {
        "id": "IYw9X6YcVAoE",
        "colab_type": "text"
      },
      "source": [
        "Functions in python"
      ]
    },
    {
      "cell_type": "code",
      "metadata": {
        "id": "ya0U5Ig-VFAX",
        "colab_type": "code",
        "colab": {
          "base_uri": "https://localhost:8080/",
          "height": 34
        },
        "outputId": "39fa6614-d1c1-4ac6-a1b2-9c6dba56953b"
      },
      "source": [
        "def say_hello(name):   #def is used to define a function , here \"say_hello \"is the function name \n",
        "  print(\"Hello \"+ name ) \n",
        "\n",
        "say_hello (\"Akhil\")"
      ],
      "execution_count": null,
      "outputs": [
        {
          "output_type": "stream",
          "text": [
            "Hello Akhil\n"
          ],
          "name": "stdout"
        }
      ]
    },
    {
      "cell_type": "code",
      "metadata": {
        "id": "an2qIFCNWBuO",
        "colab_type": "code",
        "colab": {
          "base_uri": "https://localhost:8080/",
          "height": 34
        },
        "outputId": "cf673bfe-3eb0-4308-dac7-5be4e3f9438a"
      },
      "source": [
        "def calculate(a,b): # calculate is the function name here \n",
        "  sum = a+b\n",
        "  diff = a-b\n",
        "  multi = a*b\n",
        "  return(sum,diff,multi) # return or print multiple things using function\n",
        "\n",
        "\n",
        "calculate(5,3)"
      ],
      "execution_count": null,
      "outputs": [
        {
          "output_type": "execute_result",
          "data": {
            "text/plain": [
              "(8, 2, 15)"
            ]
          },
          "metadata": {
            "tags": []
          },
          "execution_count": 50
        }
      ]
    },
    {
      "cell_type": "code",
      "metadata": {
        "id": "l-k5ZhgaXOqj",
        "colab_type": "code",
        "colab": {
          "base_uri": "https://localhost:8080/",
          "height": 34
        },
        "outputId": "4af8dd54-ec5a-45d6-afe0-b1f7b1626ada"
      },
      "source": [
        "calculate(2,2)"
      ],
      "execution_count": null,
      "outputs": [
        {
          "output_type": "stream",
          "text": [
            "4 0 4\n"
          ],
          "name": "stdout"
        }
      ]
    },
    {
      "cell_type": "markdown",
      "metadata": {
        "id": "RUYKF0egYeHr",
        "colab_type": "text"
      },
      "source": [
        "Data structure\n",
        "\n",
        "1.   List\n",
        "2.   Tuples\n",
        "3.   Dictionary\n",
        "4.   Sets\n",
        "\n",
        "\n"
      ]
    },
    {
      "cell_type": "markdown",
      "metadata": {
        "id": "TDlDU2mpZcVM",
        "colab_type": "text"
      },
      "source": [
        "**list** [ ]\n",
        "\n",
        "1.   we can change the elements\n",
        "2.   square bracket is used\n",
        "\n"
      ]
    },
    {
      "cell_type": "code",
      "metadata": {
        "id": "DyaTIJd0Ze_H",
        "colab_type": "code",
        "colab": {}
      },
      "source": [
        "li = [4,6,2,9,8,7]  #example of a ist"
      ],
      "execution_count": null,
      "outputs": []
    },
    {
      "cell_type": "code",
      "metadata": {
        "id": "ZHsv677YaW62",
        "colab_type": "code",
        "colab": {
          "base_uri": "https://localhost:8080/",
          "height": 34
        },
        "outputId": "4fb1813b-8de9-4fd6-e122-eab97fd8746a"
      },
      "source": [
        "type(li)"
      ],
      "execution_count": null,
      "outputs": [
        {
          "output_type": "execute_result",
          "data": {
            "text/plain": [
              "list"
            ]
          },
          "metadata": {
            "tags": []
          },
          "execution_count": 52
        }
      ]
    },
    {
      "cell_type": "code",
      "metadata": {
        "id": "UbR8hbXqaZT9",
        "colab_type": "code",
        "colab": {
          "base_uri": "https://localhost:8080/",
          "height": 67
        },
        "outputId": "b506a050-315c-4d3c-bc46-6e8a288bdf7e"
      },
      "source": [
        "print(li[0]) #extracting the first element in the given list\n",
        "print(li[5]) #extracting the 5 th element\n",
        "print(li[0]) #extracting the zeroth element"
      ],
      "execution_count": null,
      "outputs": [
        {
          "output_type": "stream",
          "text": [
            "4\n",
            "7\n",
            "4\n"
          ],
          "name": "stdout"
        }
      ]
    },
    {
      "cell_type": "code",
      "metadata": {
        "id": "KvbbzHO1beTe",
        "colab_type": "code",
        "colab": {
          "base_uri": "https://localhost:8080/",
          "height": 50
        },
        "outputId": "19598215-4021-46b2-c878-f81aefab2ef5"
      },
      "source": [
        "print(li[-1]) # accessing the element from thee negative direction\n",
        "print(li[-2])"
      ],
      "execution_count": null,
      "outputs": [
        {
          "output_type": "stream",
          "text": [
            "7\n",
            "8\n"
          ],
          "name": "stdout"
        }
      ]
    },
    {
      "cell_type": "markdown",
      "metadata": {
        "id": "9gQI9C_odAUB",
        "colab_type": "text"
      },
      "source": [
        "*list slicing*\n",
        "\n",
        "1.   we can extract some elements from the list by providing the constrains\n",
        "\n"
      ]
    },
    {
      "cell_type": "code",
      "metadata": {
        "id": "eMQEXJi0bmQ0",
        "colab_type": "code",
        "colab": {
          "base_uri": "https://localhost:8080/",
          "height": 34
        },
        "outputId": "e863978b-1076-4d21-d7d5-d469cca19bb1"
      },
      "source": [
        "# li[ start_index : end_index + 1  ]\n",
        "\n",
        "\n",
        "li[0 : 3] # we giving the starting element number and end number which is excluded\n",
        "\n"
      ],
      "execution_count": null,
      "outputs": [
        {
          "output_type": "execute_result",
          "data": {
            "text/plain": [
              "[4, 6, 2]"
            ]
          },
          "metadata": {
            "tags": []
          },
          "execution_count": 64
        }
      ]
    },
    {
      "cell_type": "code",
      "metadata": {
        "id": "yip8-Mopdh-k",
        "colab_type": "code",
        "colab": {
          "base_uri": "https://localhost:8080/",
          "height": 34
        },
        "outputId": "c494469c-e3b7-47f3-d8e1-13dfb08d3d94"
      },
      "source": [
        "li[:] # No starting and end index so it will give all the elements"
      ],
      "execution_count": null,
      "outputs": [
        {
          "output_type": "execute_result",
          "data": {
            "text/plain": [
              "[4, 6, 2, 9, 8, 7]"
            ]
          },
          "metadata": {
            "tags": []
          },
          "execution_count": 65
        }
      ]
    },
    {
      "cell_type": "code",
      "metadata": {
        "id": "FzOqlbaiemt9",
        "colab_type": "code",
        "colab": {}
      },
      "source": [
        "li[0]= 50 # we can change the element of the list"
      ],
      "execution_count": null,
      "outputs": []
    },
    {
      "cell_type": "code",
      "metadata": {
        "id": "60Pi7oiwfEqh",
        "colab_type": "code",
        "colab": {
          "base_uri": "https://localhost:8080/",
          "height": 34
        },
        "outputId": "9df0fc33-41b1-4e29-b55c-21f73d7eab8c"
      },
      "source": [
        "li   # Here the first element has been changed"
      ],
      "execution_count": null,
      "outputs": [
        {
          "output_type": "execute_result",
          "data": {
            "text/plain": [
              "[50, 6, 2, 9, 8, 7]"
            ]
          },
          "metadata": {
            "tags": []
          },
          "execution_count": 68
        }
      ]
    },
    {
      "cell_type": "code",
      "metadata": {
        "id": "G-ml3ScGfIM6",
        "colab_type": "code",
        "colab": {
          "base_uri": "https://localhost:8080/",
          "height": 34
        },
        "outputId": "83a22a11-22f4-49e7-d60f-0ddf776925bc"
      },
      "source": [
        "li2 = [\"Hello\",False,2.3,-1,[1,2,3,5]]   # list can contain heterogenous elements\n",
        "li2"
      ],
      "execution_count": null,
      "outputs": [
        {
          "output_type": "execute_result",
          "data": {
            "text/plain": [
              "['Hello', False, 2.3, -1, [1, 2, 3, 5]]"
            ]
          },
          "metadata": {
            "tags": []
          },
          "execution_count": 72
        }
      ]
    },
    {
      "cell_type": "markdown",
      "metadata": {
        "id": "QRRqLK9Ig-We",
        "colab_type": "text"
      },
      "source": [
        "Tuples \n",
        " \n",
        "1.   ( ) is used\n",
        "2.   Read only limit\n",
        "3.   Element is not changable\n",
        "4.   we use Tuples to declare constants\n",
        "\n"
      ]
    },
    {
      "cell_type": "code",
      "metadata": {
        "id": "bEVQEqKTgI0B",
        "colab_type": "code",
        "colab": {}
      },
      "source": [
        "tup = (5,4,2,3,8) # creating a Tuple"
      ],
      "execution_count": null,
      "outputs": []
    },
    {
      "cell_type": "code",
      "metadata": {
        "id": "3oT4pupAi2LY",
        "colab_type": "code",
        "colab": {
          "base_uri": "https://localhost:8080/",
          "height": 34
        },
        "outputId": "29288520-abb3-4285-c1ad-93b16390f76a"
      },
      "source": [
        "type(tup)"
      ],
      "execution_count": null,
      "outputs": [
        {
          "output_type": "execute_result",
          "data": {
            "text/plain": [
              "tuple"
            ]
          },
          "metadata": {
            "tags": []
          },
          "execution_count": 75
        }
      ]
    },
    {
      "cell_type": "code",
      "metadata": {
        "id": "6ZHH14yki_kn",
        "colab_type": "code",
        "colab": {
          "base_uri": "https://localhost:8080/",
          "height": 34
        },
        "outputId": "94946da4-5e33-4673-ea62-60741b41fdfd"
      },
      "source": [
        "tup[0] "
      ],
      "execution_count": null,
      "outputs": [
        {
          "output_type": "execute_result",
          "data": {
            "text/plain": [
              "5"
            ]
          },
          "metadata": {
            "tags": []
          },
          "execution_count": 82
        }
      ]
    },
    {
      "cell_type": "code",
      "metadata": {
        "id": "XUarnLIAjILP",
        "colab_type": "code",
        "colab": {
          "base_uri": "https://localhost:8080/",
          "height": 34
        },
        "outputId": "6e62bfd7-64ed-4a7e-81b9-cf19f37c66dc"
      },
      "source": [
        "tup[4]"
      ],
      "execution_count": null,
      "outputs": [
        {
          "output_type": "execute_result",
          "data": {
            "text/plain": [
              "8"
            ]
          },
          "metadata": {
            "tags": []
          },
          "execution_count": 83
        }
      ]
    },
    {
      "cell_type": "code",
      "metadata": {
        "id": "nPfpMi-TjfaK",
        "colab_type": "code",
        "colab": {
          "base_uri": "https://localhost:8080/",
          "height": 34
        },
        "outputId": "3e92e202-5d06-49ec-9a66-79cc89503334"
      },
      "source": [
        "len(tup) # len function gives the element number "
      ],
      "execution_count": null,
      "outputs": [
        {
          "output_type": "execute_result",
          "data": {
            "text/plain": [
              "5"
            ]
          },
          "metadata": {
            "tags": []
          },
          "execution_count": 84
        }
      ]
    },
    {
      "cell_type": "code",
      "metadata": {
        "id": "1J6aKjkXk3vh",
        "colab_type": "code",
        "colab": {
          "base_uri": "https://localhost:8080/",
          "height": 34
        },
        "outputId": "60de9f30-9ac7-4b25-b46f-9d297c374627"
      },
      "source": [
        "3,5     # it is also a Tuple"
      ],
      "execution_count": null,
      "outputs": [
        {
          "output_type": "execute_result",
          "data": {
            "text/plain": [
              "(3, 5)"
            ]
          },
          "metadata": {
            "tags": []
          },
          "execution_count": 86
        }
      ]
    },
    {
      "cell_type": "markdown",
      "metadata": {
        "id": "zA7iqXeqlzGb",
        "colab_type": "text"
      },
      "source": [
        "Dictionary"
      ]
    },
    {
      "cell_type": "code",
      "metadata": {
        "id": "2kkzEgcgl5ah",
        "colab_type": "code",
        "colab": {
          "base_uri": "https://localhost:8080/",
          "height": 34
        },
        "outputId": "470559e8-2a0a-4c0f-ac1d-f6632a4a814e"
      },
      "source": [
        "canteen_menu = {\n",
        "    \"samosa\":10,\n",
        "    \"juice\": 20,\n",
        "    \"pizza\":50,\n",
        "} \n",
        "canteen_menu[\"pizza\"]"
      ],
      "execution_count": null,
      "outputs": [
        {
          "output_type": "execute_result",
          "data": {
            "text/plain": [
              "50"
            ]
          },
          "metadata": {
            "tags": []
          },
          "execution_count": 89
        }
      ]
    },
    {
      "cell_type": "code",
      "metadata": {
        "id": "bGuBjxslmSoS",
        "colab_type": "code",
        "colab": {
          "base_uri": "https://localhost:8080/",
          "height": 34
        },
        "outputId": "b45e2a7a-071a-40e1-c342-2e1179ee9701"
      },
      "source": [
        "canteen_menu['juice']"
      ],
      "execution_count": null,
      "outputs": [
        {
          "output_type": "execute_result",
          "data": {
            "text/plain": [
              "20"
            ]
          },
          "metadata": {
            "tags": []
          },
          "execution_count": 91
        }
      ]
    },
    {
      "cell_type": "code",
      "metadata": {
        "id": "JrCDS-1Tm6X0",
        "colab_type": "code",
        "colab": {
          "base_uri": "https://localhost:8080/",
          "height": 34
        },
        "outputId": "ba7e1351-d5e9-4645-b6e3-51e15e00e341"
      },
      "source": [
        "type(canteen_menu)"
      ],
      "execution_count": null,
      "outputs": [
        {
          "output_type": "execute_result",
          "data": {
            "text/plain": [
              "dict"
            ]
          },
          "metadata": {
            "tags": []
          },
          "execution_count": 92
        }
      ]
    },
    {
      "cell_type": "code",
      "metadata": {
        "id": "fYWp0404nTvx",
        "colab_type": "code",
        "colab": {}
      },
      "source": [
        "canteen_menu[\"apple\"] = 25 # Adding new element"
      ],
      "execution_count": null,
      "outputs": []
    },
    {
      "cell_type": "code",
      "metadata": {
        "id": "pGIYOzgGnlUI",
        "colab_type": "code",
        "colab": {
          "base_uri": "https://localhost:8080/",
          "height": 34
        },
        "outputId": "f5605e9c-af8a-48ca-90bb-8bcffcf4cad7"
      },
      "source": [
        "canteen_menu"
      ],
      "execution_count": null,
      "outputs": [
        {
          "output_type": "execute_result",
          "data": {
            "text/plain": [
              "{'apple': 25, 'juice': 20, 'pizza': 50, 'samosa': 10}"
            ]
          },
          "metadata": {
            "tags": []
          },
          "execution_count": 95
        }
      ]
    },
    {
      "cell_type": "code",
      "metadata": {
        "id": "L5sQxHIIn-dt",
        "colab_type": "code",
        "colab": {}
      },
      "source": [
        ""
      ],
      "execution_count": null,
      "outputs": []
    }
  ]
}
